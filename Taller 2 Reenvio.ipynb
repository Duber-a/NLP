{
 "cells": [
  {
   "cell_type": "markdown",
   "metadata": {},
   "source": [
    "<img src='https://encrypted-tbn0.gstatic.com/images?q=tbn%3AANd9GcQ-VfNtOyJbsaxu43Kztf_cv1mgBG6ZIQZEVw&usqp=CAU'>\n",
    "\n",
    "# Procesamiento de Lenguage Natural\n",
    "\n",
    "## Reenvio Taller #2: Adquisición de textos\n"
   ]
  },
  {
   "cell_type": "markdown",
   "metadata": {},
   "source": [
    "# Punto 1:\n",
    "\n",
    "- Descomprimir el archivo `.zip` de los poemas\n",
    "- Leer cada uno de sus archivos\n",
    "- Responder: ¿Cuál archivo tiene el mayor número de palabras?"
   ]
  },
  {
   "cell_type": "code",
   "execution_count": null,
   "metadata": {},
   "outputs": [],
   "source": [
    "# Profe Viviana, aun no soy muy bueno para realizar bucles, en el reenvio del taller2 realizo los codigos paso por paso."
   ]
  },
  {
   "cell_type": "code",
   "execution_count": 1,
   "metadata": {},
   "outputs": [],
   "source": [
    "import pandas as pd\n",
    "import os\n",
    "from zipfile import ZipFile "
   ]
  },
  {
   "cell_type": "code",
   "execution_count": 3,
   "metadata": {},
   "outputs": [],
   "source": [
    "ruta1 = os.chdir(r'C:\\Users\\Duber\\Documents\\NLP') #cargue de ruta para abrir txt"
   ]
  },
  {
   "cell_type": "code",
   "execution_count": 5,
   "metadata": {},
   "outputs": [],
   "source": [
    "ruta = 'C:\\\\Users\\\\Duber\\\\Documents\\\\NLP\\\\poemas.zip'  #Cargue de la Ruta para descomprimir zip"
   ]
  },
  {
   "cell_type": "code",
   "execution_count": 6,
   "metadata": {},
   "outputs": [],
   "source": [
    "with ZipFile(ruta) as ruta:\n",
    "    ruta.extractall('C:\\\\Users\\\\Duber\\\\Documents\\\\NLP\\\\')  #Extracción en carpeta de los archivos Comprimidos "
   ]
  },
  {
   "cell_type": "code",
   "execution_count": 47,
   "metadata": {},
   "outputs": [
    {
     "name": "stdout",
     "output_type": "stream",
     "text": [
      "RegiÃ³n de manos sucias de pinceles sin pelo\n",
      "\n",
      "de niÃ±os boca abajo de cepillos de dientes\n",
      "\n",
      "Zona donde la rata se ennoblece\n",
      "\n",
      "y hay banderas innÃºmeras y cantan himnos\n",
      "\n",
      "y alguien te prende, hijo de puta,\n",
      "\n",
      "una medalla sobre el pecho\n",
      "\n",
      "Y te pudres lo mismo.\n",
      "46\n"
     ]
    }
   ],
   "source": [
    "with open('A un general (Julio Corta∩zar).txt') as archivo1:\n",
    "    P1 = archivo1.read()\n",
    "    print (P1)\n",
    "    Conteo1 = len(P1.split())\n",
    "   \n",
    "print(Conteo1)"
   ]
  },
  {
   "cell_type": "code",
   "execution_count": 48,
   "metadata": {},
   "outputs": [
    {
     "name": "stdout",
     "output_type": "stream",
     "text": [
      "Mis pasos en esta calle\n",
      "\n",
      "Resuenan\n",
      "\n",
      "En otra calle\n",
      "\n",
      "Donde\n",
      "\n",
      "Oigo mis pasos\n",
      "\n",
      "Pasar en esta calle\n",
      "\n",
      "Donde\n",
      "\n",
      "SÃ³lo es real la niebla.\n",
      "23\n"
     ]
    }
   ],
   "source": [
    "with open('Aqui∩ (Octavio Paz).txt') as archivo1:\n",
    "    P2 = archivo2.read()\n",
    "    print (P2)\n",
    "    Conteo1 = len(P2.split())\n",
    "   \n",
    "print(Conteo2)"
   ]
  },
  {
   "cell_type": "code",
   "execution_count": 49,
   "metadata": {},
   "outputs": [
    {
     "name": "stdout",
     "output_type": "stream",
     "text": [
      "TodavÃ­a tengo casi todos mis dientes\n",
      "\n",
      "casi todos mis cabellos y poquÃ­simas canas\n",
      "\n",
      "puedo hacer y deshacer el amor\n",
      "\n",
      "trepar una escalera de dos en dos\n",
      "\n",
      "y correr cuarenta metros detrÃ¡s del Ã³mnibus\n",
      "\n",
      "o sea que no deberÃ­a sentirme viejo\n",
      "\n",
      "pero el grave problema es que antes\n",
      "\n",
      "no me fijaba en estos detalles.\n",
      "53\n"
     ]
    }
   ],
   "source": [
    "with open('Si∩ndrome (Mario Benedetti).txt') as archivo1:\n",
    "    P3 = archivo3.read()\n",
    "    print (P3)\n",
    "    Conteo1 = len(P3.split())\n",
    "   \n",
    "print(Conteo3)"
   ]
  },
  {
   "cell_type": "markdown",
   "metadata": {},
   "source": [
    "# Punto 2:\n",
    "\n",
    "- Hacer Web Scraping de 10 biografías en Wikipedia (en búcle)\n",
    "- Obtener el **encabezado** de cada biografía\n",
    "- Obtener todos los **contenidos** y **etiquetas de título** asociados a los **links** del primer párrafo"
   ]
  },
  {
   "cell_type": "markdown",
   "metadata": {},
   "source": [
    "<img src='img/carlsagan.png'>"
   ]
  },
  {
   "cell_type": "code",
   "execution_count": 2,
   "metadata": {},
   "outputs": [],
   "source": [
    "import urllib.request \n",
    "import bs4 as bs"
   ]
  },
  {
   "cell_type": "code",
   "execution_count": 123,
   "metadata": {},
   "outputs": [],
   "source": [
    "link = \"https://es.wikipedia.org/wiki/J._K._Rowling\""
   ]
  },
  {
   "cell_type": "code",
   "execution_count": 124,
   "metadata": {},
   "outputs": [],
   "source": [
    "request = urllib.request.urlopen(link)\n",
    "fuente = request.read()\n",
    "request.close()"
   ]
  },
  {
   "cell_type": "code",
   "execution_count": 125,
   "metadata": {},
   "outputs": [
    {
     "data": {
      "text/plain": [
       "['J. K. Rowling']"
      ]
     },
     "execution_count": 125,
     "metadata": {},
     "output_type": "execute_result"
    }
   ],
   "source": [
    "soup = bs.BeautifulSoup(fuente, 'html.parser')\n",
    "soup.find(id=\"firstHeading\").contents"
   ]
  },
  {
   "cell_type": "code",
   "execution_count": 127,
   "metadata": {},
   "outputs": [
    {
     "name": "stdout",
     "output_type": "stream",
     "text": [
      "Etiqueta: <a href=\"#cite_note-bio2-1\"><span class=\"corchete-llamada\">[</span>1<span class=\"corchete-llamada\">]</span></a>\n",
      "Nombre: None\n",
      "Contenido: [<span class=\"corchete-llamada\">[</span>, '1', <span class=\"corchete-llamada\">]</span>]\n",
      "Etiqueta: <a href=\"/wiki/Yate_(Gloucestershire)\" title=\"Yate (Gloucestershire)\">Yate</a>\n",
      "Nombre: Yate (Gloucestershire)\n",
      "Contenido: ['Yate']\n",
      "Etiqueta: <a href=\"/wiki/31_de_julio\" title=\"31 de julio\">31 de julio</a>\n",
      "Nombre: 31 de julio\n",
      "Contenido: ['31 de julio']\n",
      "Etiqueta: <a href=\"/wiki/1965\" title=\"1965\">1965</a>\n",
      "Nombre: 1965\n",
      "Contenido: ['1965']\n",
      "Etiqueta: <a href=\"#cite_note-Red-Nose-Day-BBC-Online-chat-2\"><span class=\"corchete-llamada\">[</span>2<span class=\"corchete-llamada\">]</span></a>\n",
      "Nombre: None\n",
      "Contenido: [<span class=\"corchete-llamada\">[</span>, '2', <span class=\"corchete-llamada\">]</span>]\n",
      "Etiqueta: <a href=\"/wiki/Escritor\" title=\"Escritor\">escritora</a>\n",
      "Nombre: Escritor\n",
      "Contenido: ['escritora']\n",
      "Etiqueta: <a href=\"/wiki/Productor_de_cine\" title=\"Productor de cine\">productora de cine</a>\n",
      "Nombre: Productor de cine\n",
      "Contenido: ['productora de cine']\n",
      "Etiqueta: <a href=\"/wiki/Guionista\" title=\"Guionista\">guionista</a>\n",
      "Nombre: Guionista\n",
      "Contenido: ['guionista']\n",
      "Etiqueta: <a href=\"/wiki/Reino_Unido\" title=\"Reino Unido\">británica</a>\n",
      "Nombre: Reino Unido\n",
      "Contenido: ['británica']\n",
      "Etiqueta: <a href=\"/wiki/Harry_Potter\" title=\"Harry Potter\">Harry Potter</a>\n",
      "Nombre: Harry Potter\n",
      "Contenido: ['Harry Potter']\n",
      "Etiqueta: <a href=\"#cite_note-VacancyELPAIS-3\"><span class=\"corchete-llamada\">[</span>3<span class=\"corchete-llamada\">]</span></a>\n",
      "Nombre: None\n",
      "Contenido: [<span class=\"corchete-llamada\">[</span>, '3', <span class=\"corchete-llamada\">]</span>]\n"
     ]
    }
   ],
   "source": [
    "Parrafo = soup.find('p')\n",
    "for link in Parrafo.find_all('a'):\n",
    "    print(f\"Etiqueta: {link}\")\n",
    "    print(f\"Nombre: {link.get('title')}\")\n",
    "    print(f\"Contenido: {link.contents}\")\n",
    "    "
   ]
  },
  {
   "cell_type": "code",
   "execution_count": 130,
   "metadata": {},
   "outputs": [
    {
     "data": {
      "text/plain": [
       "['George R. R. Martin']"
      ]
     },
     "execution_count": 130,
     "metadata": {},
     "output_type": "execute_result"
    }
   ],
   "source": [
    "link2 = \"https://es.wikipedia.org/wiki/George_R._R._Martin\"\n",
    "\n",
    "request = urllib.request.urlopen(link2)\n",
    "fuente = request.read()\n",
    "request.close()\n",
    "soup = bs.BeautifulSoup(fuente, 'html.parser')\n",
    "soup.find(id=\"firstHeading\").contents"
   ]
  },
  {
   "cell_type": "code",
   "execution_count": 132,
   "metadata": {},
   "outputs": [
    {
     "name": "stdout",
     "output_type": "stream",
     "text": [
      "Etiqueta: <a href=\"/wiki/Bayonne_(Nueva_Jersey)\" title=\"Bayonne (Nueva Jersey)\">Bayonne</a>\n",
      "Nombre: Bayonne (Nueva Jersey)\n",
      "Contenido: ['Bayonne']\n",
      "Etiqueta: <a href=\"/wiki/Nueva_Jersey\" title=\"Nueva Jersey\">Nueva Jersey</a>\n",
      "Nombre: Nueva Jersey\n",
      "Contenido: ['Nueva Jersey']\n",
      "Etiqueta: <a href=\"/wiki/20_de_septiembre\" title=\"20 de septiembre\">20 de septiembre</a>\n",
      "Nombre: 20 de septiembre\n",
      "Contenido: ['20 de septiembre']\n",
      "Etiqueta: <a href=\"/wiki/1948\" title=\"1948\">1948</a>\n",
      "Nombre: 1948\n",
      "Contenido: ['1948']\n",
      "Etiqueta: <a href=\"/wiki/Escritor\" title=\"Escritor\">escritor</a>\n",
      "Nombre: Escritor\n",
      "Contenido: ['escritor']\n",
      "Etiqueta: <a href=\"/wiki/Guionista\" title=\"Guionista\">guionista</a>\n",
      "Nombre: Guionista\n",
      "Contenido: ['guionista']\n",
      "Etiqueta: <a href=\"/wiki/Estados_Unidos\" title=\"Estados Unidos\">estadounidense</a>\n",
      "Nombre: Estados Unidos\n",
      "Contenido: ['estadounidense']\n",
      "Etiqueta: <a href=\"/wiki/Literatura_fant%C3%A1stica\" title=\"Literatura fantástica\">literatura fantástica</a>\n",
      "Nombre: Literatura fantástica\n",
      "Contenido: ['literatura fantástica']\n",
      "Etiqueta: <a href=\"/wiki/Ciencia_ficci%C3%B3n\" title=\"Ciencia ficción\">ciencia ficción</a>\n",
      "Nombre: Ciencia ficción\n",
      "Contenido: ['ciencia ficción']\n",
      "Etiqueta: <a class=\"mw-redirect\" href=\"/wiki/Novela_g%C3%B3tica\" title=\"Novela gótica\">terror</a>\n",
      "Nombre: Novela gótica\n",
      "Contenido: ['terror']\n",
      "Etiqueta: <a href=\"/wiki/Canci%C3%B3n_de_hielo_y_fuego\" title=\"Canción de hielo y fuego\">Canción de hielo y fuego</a>\n",
      "Nombre: Canción de hielo y fuego\n",
      "Contenido: ['Canción de hielo y fuego']\n",
      "Etiqueta: <a class=\"mw-redirect\" href=\"/wiki/Juego_de_tronos_(serie_de_televisi%C3%B3n)\" title=\"Juego de tronos (serie de televisión)\">Juego de tronos (Game of Thrones)</a>\n",
      "Nombre: Juego de tronos (serie de televisión)\n",
      "Contenido: ['Juego de tronos (Game of Thrones)']\n",
      "Etiqueta: <a href=\"/wiki/From_Software\" title=\"From Software\">From Software</a>\n",
      "Nombre: From Software\n",
      "Contenido: ['From Software']\n",
      "Etiqueta: <a href=\"/wiki/Elden_Ring\" title=\"Elden Ring\">Elder Ring</a>\n",
      "Nombre: Elden Ring\n",
      "Contenido: ['Elder Ring']\n"
     ]
    }
   ],
   "source": [
    "Parrafo = soup.find('p')\n",
    "for link in Parrafo.find_all('a'):\n",
    "    print(f\"Etiqueta: {link}\")\n",
    "    print(f\"Nombre: {link.get('title')}\")\n",
    "    print(f\"Contenido: {link.contents}\")"
   ]
  },
  {
   "cell_type": "code",
   "execution_count": 135,
   "metadata": {},
   "outputs": [
    {
     "data": {
      "text/plain": [
       "['Juanes']"
      ]
     },
     "execution_count": 135,
     "metadata": {},
     "output_type": "execute_result"
    }
   ],
   "source": [
    "link3 = \"https://es.wikipedia.org/wiki/Juanes\"\n",
    "\n",
    "request = urllib.request.urlopen(link3)\n",
    "fuente = request.read()\n",
    "request.close()\n",
    "soup = bs.BeautifulSoup(fuente, 'html.parser')\n",
    "soup.find(id=\"firstHeading\").contents"
   ]
  },
  {
   "cell_type": "code",
   "execution_count": 136,
   "metadata": {},
   "outputs": [
    {
     "name": "stdout",
     "output_type": "stream",
     "text": [
      "Etiqueta: <a href=\"/wiki/Medell%C3%ADn\" title=\"Medellín\">Medellín</a>\n",
      "Nombre: Medellín\n",
      "Contenido: ['Medellín']\n",
      "Etiqueta: <a href=\"/wiki/9_de_agosto\" title=\"9 de agosto\">9 de agosto</a>\n",
      "Nombre: 9 de agosto\n",
      "Contenido: ['9 de agosto']\n",
      "Etiqueta: <a href=\"/wiki/1972\" title=\"1972\">1972</a>\n",
      "Nombre: 1972\n",
      "Contenido: ['1972']\n",
      "Etiqueta: <a href=\"/wiki/Cantante\" title=\"Cantante\">cantante</a>\n",
      "Nombre: Cantante\n",
      "Contenido: ['cantante']\n",
      "Etiqueta: <a href=\"/wiki/Compositor\" title=\"Compositor\">compositor</a>\n",
      "Nombre: Compositor\n",
      "Contenido: ['compositor']\n",
      "Etiqueta: <a href=\"/wiki/M%C3%BAsico\" title=\"Músico\">músico</a>\n",
      "Nombre: Músico\n",
      "Contenido: ['músico']\n",
      "Etiqueta: <a href=\"/wiki/Colombia\" title=\"Colombia\">colombiano</a>\n",
      "Nombre: Colombia\n",
      "Contenido: ['colombiano']\n",
      "Etiqueta: <a href=\"/wiki/Pop_latino\" title=\"Pop latino\">pop latino</a>\n",
      "Nombre: Pop latino\n",
      "Contenido: ['pop latino']\n",
      "Etiqueta: <a href=\"/wiki/Rock_en_espa%C3%B1ol\" title=\"Rock en español\">rock en español</a>\n",
      "Nombre: Rock en español\n",
      "Contenido: ['rock en español']\n",
      "Etiqueta: <a class=\"mw-redirect\" href=\"/wiki/Latin_Grammy\" title=\"Latin Grammy\">Grammy Latinos</a>\n",
      "Nombre: Latin Grammy\n",
      "Contenido: ['Grammy Latinos']\n",
      "Etiqueta: <a href=\"#cite_note-1\"><span class=\"corchete-llamada\">[</span>1<span class=\"corchete-llamada\">]</span></a>\n",
      "Nombre: None\n",
      "Contenido: [<span class=\"corchete-llamada\">[</span>, '1', <span class=\"corchete-llamada\">]</span>]\n"
     ]
    }
   ],
   "source": [
    "Parrafo = soup.find('p')\n",
    "for link in Parrafo.find_all('a'):\n",
    "    print(f\"Etiqueta: {link}\")\n",
    "    print(f\"Nombre: {link.get('title')}\")\n",
    "    print(f\"Contenido: {link.contents}\")"
   ]
  },
  {
   "cell_type": "code",
   "execution_count": 137,
   "metadata": {},
   "outputs": [
    {
     "data": {
      "text/plain": [
       "['Cristiano Ronaldo']"
      ]
     },
     "execution_count": 137,
     "metadata": {},
     "output_type": "execute_result"
    }
   ],
   "source": [
    "link4 = \"https://es.wikipedia.org/wiki/Cristiano_Ronaldo\"\n",
    "\n",
    "request = urllib.request.urlopen(link4)\n",
    "fuente = request.read()\n",
    "request.close()\n",
    "soup = bs.BeautifulSoup(fuente, 'html.parser')\n",
    "soup.find(id=\"firstHeading\").contents"
   ]
  },
  {
   "cell_type": "code",
   "execution_count": 138,
   "metadata": {},
   "outputs": [
    {
     "name": "stdout",
     "output_type": "stream",
     "text": [
      "Etiqueta: <a href=\"/wiki/Orden_del_Infante_Don_Enrique\" title=\"Orden del Infante Don Enrique\">GOIH</a>\n",
      "Nombre: Orden del Infante Don Enrique\n",
      "Contenido: ['GOIH']\n",
      "Etiqueta: <a href=\"/wiki/Orden_del_M%C3%A9rito_(Portugal)\" title=\"Orden del Mérito (Portugal)\">ComM</a>\n",
      "Nombre: Orden del Mérito (Portugal)\n",
      "Contenido: ['ComM']\n",
      "Etiqueta: <a href=\"#cite_note-GOIH-9\"><span class=\"corchete-llamada\">[</span>8<span class=\"corchete-llamada\">]</span></a>\n",
      "Nombre: None\n",
      "Contenido: [<span class=\"corchete-llamada\">[</span>, '8', <span class=\"corchete-llamada\">]</span>]\n",
      "Etiqueta: <a href=\"#cite_note-10\"><span class=\"corchete-llamada\">[</span>9<span class=\"corchete-llamada\">]</span></a>\n",
      "Nombre: None\n",
      "Contenido: [<span class=\"corchete-llamada\">[</span>, '9', <span class=\"corchete-llamada\">]</span>]\n",
      "Etiqueta: <a href=\"#cite_note-FOOTNOTEPeter_Wynter_Bee_Clapham2008-11\"><span class=\"corchete-llamada\">[</span>10<span class=\"corchete-llamada\">]</span></a>\n",
      "Nombre: None\n",
      "Contenido: [<span class=\"corchete-llamada\">[</span>, '10', <span class=\"corchete-llamada\">]</span>]\n",
      "Etiqueta: <a href=\"/wiki/Alfabeto_Fon%C3%A9tico_Internacional\" title=\"Alfabeto Fonético Internacional\">/kɾiʃˈtiɐnu ʁuˈnaɫdu/</a>\n",
      "Nombre: Alfabeto Fonético Internacional\n",
      "Contenido: ['/kɾiʃˈtiɐnu ʁuˈnaɫdu/']\n",
      "Etiqueta: <a href=\"/wiki/Funchal\" title=\"Funchal\">Funchal</a>\n",
      "Nombre: Funchal\n",
      "Contenido: ['Funchal']\n",
      "Etiqueta: <a href=\"/wiki/Madeira\" title=\"Madeira\">Madeira</a>\n",
      "Nombre: Madeira\n",
      "Contenido: ['Madeira']\n",
      "Etiqueta: <a href=\"/wiki/F%C3%BAtbol\" title=\"Fútbol\">futbolista</a>\n",
      "Nombre: Fútbol\n",
      "Contenido: ['futbolista']\n",
      "Etiqueta: <a href=\"/wiki/Nacionalidad_portuguesa\" title=\"Nacionalidad portuguesa\">portugués</a>\n",
      "Nombre: Nacionalidad portuguesa\n",
      "Contenido: ['portugués']\n",
      "Etiqueta: <a href=\"/wiki/Delantero\" title=\"Delantero\">delantero</a>\n",
      "Nombre: Delantero\n",
      "Contenido: ['delantero']\n",
      "Etiqueta: <a href=\"/wiki/Juventus_de_Tur%C3%ADn\" title=\"Juventus de Turín\">Juventus F. C.</a>\n",
      "Nombre: Juventus de Turín\n",
      "Contenido: ['Juventus F. C.']\n",
      "Etiqueta: <a href=\"/wiki/Serie_A_(Italia)\" title=\"Serie A (Italia)\">Serie A</a>\n",
      "Nombre: Serie A (Italia)\n",
      "Contenido: ['Serie A']\n",
      "Etiqueta: <a href=\"/wiki/Italia\" title=\"Italia\">Italia</a>\n",
      "Nombre: Italia\n",
      "Contenido: ['Italia']\n",
      "Etiqueta: <a href=\"/wiki/Selecci%C3%B3n_de_f%C3%BAtbol_de_Portugal\" title=\"Selección de fútbol de Portugal\">selección de Portugal</a>\n",
      "Nombre: Selección de fútbol de Portugal\n",
      "Contenido: ['selección de Portugal']\n",
      "Etiqueta: <a href=\"/wiki/Capit%C3%A1n_(f%C3%BAtbol)\" title=\"Capitán (fútbol)\">capitán</a>\n",
      "Nombre: Capitán (fútbol)\n",
      "Contenido: ['capitán']\n"
     ]
    }
   ],
   "source": [
    "Parrafo = soup.find('p')\n",
    "for link in Parrafo.find_all('a'):\n",
    "    print(f\"Etiqueta: {link}\")\n",
    "    print(f\"Nombre: {link.get('title')}\")\n",
    "    print(f\"Contenido: {link.contents}\")"
   ]
  },
  {
   "cell_type": "code",
   "execution_count": 139,
   "metadata": {},
   "outputs": [
    {
     "data": {
      "text/plain": [
       "['Lionel Messi']"
      ]
     },
     "execution_count": 139,
     "metadata": {},
     "output_type": "execute_result"
    }
   ],
   "source": [
    "link5 = \"https://es.wikipedia.org/wiki/Lionel_Messi\"\n",
    "\n",
    "request = urllib.request.urlopen(link5)\n",
    "fuente = request.read()\n",
    "request.close()\n",
    "soup = bs.BeautifulSoup(fuente, 'html.parser')\n",
    "soup.find(id=\"firstHeading\").contents"
   ]
  },
  {
   "cell_type": "code",
   "execution_count": 140,
   "metadata": {},
   "outputs": [
    {
     "name": "stdout",
     "output_type": "stream",
     "text": [
      "Etiqueta: <a href=\"/wiki/Rosario_(Argentina)\" title=\"Rosario (Argentina)\">Rosario</a>\n",
      "Nombre: Rosario (Argentina)\n",
      "Contenido: ['Rosario']\n",
      "Etiqueta: <a href=\"/wiki/Provincia_de_Santa_Fe\" title=\"Provincia de Santa Fe\">Santa Fe</a>\n",
      "Nombre: Provincia de Santa Fe\n",
      "Contenido: ['Santa Fe']\n",
      "Etiqueta: <a href=\"/wiki/24_de_junio\" title=\"24 de junio\">24 de junio</a>\n",
      "Nombre: 24 de junio\n",
      "Contenido: ['24 de junio']\n",
      "Etiqueta: <a href=\"/wiki/1987\" title=\"1987\">1987</a>\n",
      "Nombre: 1987\n",
      "Contenido: ['1987']\n",
      "Etiqueta: <a href=\"#cite_note-8\"><span class=\"corchete-llamada\">[</span>7<span class=\"corchete-llamada\">]</span></a>\n",
      "Nombre: None\n",
      "Contenido: [<span class=\"corchete-llamada\">[</span>, '7', <span class=\"corchete-llamada\">]</span>]\n",
      "Etiqueta: <a href=\"/wiki/Delantero\" title=\"Delantero\">delantero</a>\n",
      "Nombre: Delantero\n",
      "Contenido: ['delantero']\n",
      "Etiqueta: <a href=\"/wiki/Centrocampista\" title=\"Centrocampista\">centrocampista</a>\n",
      "Nombre: Centrocampista\n",
      "Contenido: ['centrocampista']\n",
      "Etiqueta: <a href=\"#cite_note-9\"><span class=\"corchete-llamada\">[</span>8<span class=\"corchete-llamada\">]</span></a>\n",
      "Nombre: None\n",
      "Contenido: [<span class=\"corchete-llamada\">[</span>, '8', <span class=\"corchete-llamada\">]</span>]\n",
      "Etiqueta: <a href=\"#cite_note-10\"><span class=\"corchete-llamada\">[</span>9<span class=\"corchete-llamada\">]</span></a>\n",
      "Nombre: None\n",
      "Contenido: [<span class=\"corchete-llamada\">[</span>, '9', <span class=\"corchete-llamada\">]</span>]\n",
      "Etiqueta: <a href=\"/wiki/F%C3%BAtbol_Club_Barcelona\" title=\"Fútbol Club Barcelona\">F. C. Barcelona</a>\n",
      "Nombre: Fútbol Club Barcelona\n",
      "Contenido: ['F. C. Barcelona']\n",
      "Etiqueta: <a href=\"/wiki/Primera_Divisi%C3%B3n_de_Espa%C3%B1a\" title=\"Primera División de España\">Primera División de España</a>\n",
      "Nombre: Primera División de España\n",
      "Contenido: ['Primera División de España']\n",
      "Etiqueta: <a href=\"/wiki/Selecci%C3%B3n_de_f%C3%BAtbol_de_Argentina\" title=\"Selección de fútbol de Argentina\">selección de Argentina</a>\n",
      "Nombre: Selección de fútbol de Argentina\n",
      "Contenido: ['selección de Argentina']\n",
      "Etiqueta: <a href=\"/wiki/Capit%C3%A1n_(f%C3%BAtbol)\" title=\"Capitán (fútbol)\">capitán</a>\n",
      "Nombre: Capitán (fútbol)\n",
      "Contenido: ['capitán']\n",
      "Etiqueta: <a href=\"#cite_note-11\"><span class=\"corchete-llamada\">[</span>10<span class=\"corchete-llamada\">]</span></a>\n",
      "Nombre: None\n",
      "Contenido: [<span class=\"corchete-llamada\">[</span>, '10', <span class=\"corchete-llamada\">]</span>]\n",
      "Etiqueta: <a href=\"#cite_note-12\"><span class=\"corchete-llamada\">[</span>11<span class=\"corchete-llamada\">]</span></a>\n",
      "Nombre: None\n",
      "Contenido: [<span class=\"corchete-llamada\">[</span>, '11', <span class=\"corchete-llamada\">]</span>]\n"
     ]
    }
   ],
   "source": [
    "Parrafo = soup.find('p')\n",
    "for link in Parrafo.find_all('a'):\n",
    "    print(f\"Etiqueta: {link}\")\n",
    "    print(f\"Nombre: {link.get('title')}\")\n",
    "    print(f\"Contenido: {link.contents}\")"
   ]
  },
  {
   "cell_type": "code",
   "execution_count": 36,
   "metadata": {},
   "outputs": [
    {
     "data": {
      "text/plain": [
       "['Antanas Mockus']"
      ]
     },
     "execution_count": 36,
     "metadata": {},
     "output_type": "execute_result"
    }
   ],
   "source": [
    "link6 = \"https://es.wikipedia.org/wiki/Antanas_Mockus\"\n",
    "\n",
    "request = urllib.request.urlopen(link6)\n",
    "fuente = request.read()\n",
    "request.close()\n",
    "soup = bs.BeautifulSoup(fuente, 'html.parser')\n",
    "soup.find(id=\"firstHeading\").contents"
   ]
  },
  {
   "cell_type": "code",
   "execution_count": 37,
   "metadata": {},
   "outputs": [
    {
     "name": "stdout",
     "output_type": "stream",
     "text": [
      "Etiqueta: <a class=\"image\" href=\"/wiki/Archivo:ASI_Logo.svg\"><img alt=\"ASI Logo.svg\" data-file-height=\"60\" data-file-width=\"100\" decoding=\"async\" height=\"15\" src=\"//upload.wikimedia.org/wikipedia/commons/thumb/f/f3/ASI_Logo.svg/25px-ASI_Logo.svg.png\" srcset=\"//upload.wikimedia.org/wikipedia/commons/thumb/f/f3/ASI_Logo.svg/38px-ASI_Logo.svg.png 1.5x, //upload.wikimedia.org/wikipedia/commons/thumb/f/f3/ASI_Logo.svg/50px-ASI_Logo.svg.png 2x\" width=\"25\"/></a>\n",
      "Nombre: None\n",
      "Contenido: [<img alt=\"ASI Logo.svg\" data-file-height=\"60\" data-file-width=\"100\" decoding=\"async\" height=\"15\" src=\"//upload.wikimedia.org/wikipedia/commons/thumb/f/f3/ASI_Logo.svg/25px-ASI_Logo.svg.png\" srcset=\"//upload.wikimedia.org/wikipedia/commons/thumb/f/f3/ASI_Logo.svg/38px-ASI_Logo.svg.png 1.5x, //upload.wikimedia.org/wikipedia/commons/thumb/f/f3/ASI_Logo.svg/50px-ASI_Logo.svg.png 2x\" width=\"25\"/>]\n",
      "Etiqueta: <a href=\"/wiki/Alianza_Social_Independiente\" title=\"Alianza Social Independiente\">Alianza Social Independiente</a>\n",
      "Nombre: Alianza Social Independiente\n",
      "Contenido: ['Alianza Social Independiente']\n"
     ]
    }
   ],
   "source": [
    "Parrafo = soup.find('p')\n",
    "for link in Parrafo.find_all('a'):\n",
    "    print(f\"Etiqueta: {link}\")\n",
    "    print(f\"Nombre: {link.get('title')}\")\n",
    "    print(f\"Contenido: {link.contents}\")"
   ]
  },
  {
   "cell_type": "code",
   "execution_count": 38,
   "metadata": {},
   "outputs": [
    {
     "data": {
      "text/plain": [
       "['Radamel Falcao García']"
      ]
     },
     "execution_count": 38,
     "metadata": {},
     "output_type": "execute_result"
    }
   ],
   "source": [
    "link7 = \"https://es.wikipedia.org/wiki/Radamel_Falcao_Garc%C3%ADa\"\n",
    "\n",
    "request = urllib.request.urlopen(link7)\n",
    "fuente = request.read()\n",
    "request.close()\n",
    "soup = bs.BeautifulSoup(fuente, 'html.parser')\n",
    "soup.find(id=\"firstHeading\").contents"
   ]
  },
  {
   "cell_type": "code",
   "execution_count": 39,
   "metadata": {},
   "outputs": [
    {
     "name": "stdout",
     "output_type": "stream",
     "text": [
      "Etiqueta: <a href=\"/wiki/Santa_Marta_(Colombia)\" title=\"Santa Marta (Colombia)\">Santa Marta</a>\n",
      "Nombre: Santa Marta (Colombia)\n",
      "Contenido: ['Santa Marta']\n",
      "Etiqueta: <a href=\"/wiki/Magdalena_(Colombia)\" title=\"Magdalena (Colombia)\">Magdalena</a>\n",
      "Nombre: Magdalena (Colombia)\n",
      "Contenido: ['Magdalena']\n",
      "Etiqueta: <a href=\"/wiki/10_de_febrero\" title=\"10 de febrero\">10 de febrero</a>\n",
      "Nombre: 10 de febrero\n",
      "Contenido: ['10 de febrero']\n",
      "Etiqueta: <a href=\"/wiki/1986\" title=\"1986\">1986</a>\n",
      "Nombre: 1986\n",
      "Contenido: ['1986']\n",
      "Etiqueta: <a href=\"/wiki/F%C3%BAtbol\" title=\"Fútbol\">futbolista</a>\n",
      "Nombre: Fútbol\n",
      "Contenido: ['futbolista']\n",
      "Etiqueta: <a href=\"/wiki/Colombia\" title=\"Colombia\">colombiano</a>\n",
      "Nombre: Colombia\n",
      "Contenido: ['colombiano']\n",
      "Etiqueta: <a href=\"/wiki/Delantero\" title=\"Delantero\">delantero</a>\n",
      "Nombre: Delantero\n",
      "Contenido: ['delantero']\n",
      "Etiqueta: <a href=\"/wiki/Galatasaray_Spor_Kul%C3%BCb%C3%BC_(f%C3%BAtbol)\" title=\"Galatasaray Spor Kulübü (fútbol)\">Galatasaray Sport Kulübü</a>\n",
      "Nombre: Galatasaray Spor Kulübü (fútbol)\n",
      "Contenido: ['Galatasaray Sport Kulübü']\n",
      "Etiqueta: <a href=\"/wiki/Superliga_de_Turqu%C3%ADa\" title=\"Superliga de Turquía\">Superliga de Turquía</a>\n",
      "Nombre: Superliga de Turquía\n",
      "Contenido: ['Superliga de Turquía']\n",
      "Etiqueta: <a href=\"/wiki/Lanceros_Boyac%C3%A1\" title=\"Lanceros Boyacá\">Lanceros Boyacá</a>\n",
      "Nombre: Lanceros Boyacá\n",
      "Contenido: ['Lanceros Boyacá']\n",
      "Etiqueta: <a href=\"#cite_note-Falcaomania-4\"><span class=\"corchete-llamada\">[</span>4<span class=\"corchete-llamada\">]</span></a>\n",
      "Nombre: None\n",
      "Contenido: [<span class=\"corchete-llamada\">[</span>, '4', <span class=\"corchete-llamada\">]</span>]\n",
      "Etiqueta: <a href=\"/wiki/Selecci%C3%B3n_de_f%C3%BAtbol_de_Colombia\" title=\"Selección de fútbol de Colombia\">selección colombiana</a>\n",
      "Nombre: Selección de fútbol de Colombia\n",
      "Contenido: ['selección colombiana']\n"
     ]
    }
   ],
   "source": [
    "Parrafo = soup.find('p')\n",
    "for link in Parrafo.find_all('a'):\n",
    "    print(f\"Etiqueta: {link}\")\n",
    "    print(f\"Nombre: {link.get('title')}\")\n",
    "    print(f\"Contenido: {link.contents}\")"
   ]
  },
  {
   "cell_type": "code",
   "execution_count": 9,
   "metadata": {},
   "outputs": [
    {
     "data": {
      "text/plain": [
       "['Vladímir Putin']"
      ]
     },
     "execution_count": 9,
     "metadata": {},
     "output_type": "execute_result"
    }
   ],
   "source": [
    "link8 = \"https://es.wikipedia.org/wiki/Vlad%C3%ADmir_Putin\"\n",
    "\n",
    "request = urllib.request.urlopen(link8)\n",
    "fuente = request.read()\n",
    "request.close()\n",
    "soup = bs.BeautifulSoup(fuente, 'html.parser')\n",
    "soup.find(id=\"firstHeading\").contents"
   ]
  },
  {
   "cell_type": "code",
   "execution_count": 10,
   "metadata": {},
   "outputs": [
    {
     "name": "stdout",
     "output_type": "stream",
     "text": [
      "Etiqueta: <a href=\"/wiki/Idioma_ruso\" title=\"Idioma ruso\">ruso</a>\n",
      "Nombre: Idioma ruso\n",
      "Contenido: ['ruso']\n",
      "Etiqueta: <a href=\"/wiki/Archivo:Ru-Vladimir_Vladimirovich_Putin.ogg\" title=\"Acerca de este sonido\"><img alt=\"Acerca de este sonido\" data-file-height=\"20\" data-file-width=\"20\" decoding=\"async\" height=\"11\" src=\"//upload.wikimedia.org/wikipedia/commons/thumb/8/8a/Loudspeaker.svg/11px-Loudspeaker.svg.png\" srcset=\"//upload.wikimedia.org/wikipedia/commons/thumb/8/8a/Loudspeaker.svg/17px-Loudspeaker.svg.png 1.5x, //upload.wikimedia.org/wikipedia/commons/thumb/8/8a/Loudspeaker.svg/22px-Loudspeaker.svg.png 2x\" width=\"11\"/></a>\n",
      "Nombre: Acerca de este sonido\n",
      "Contenido: [<img alt=\"Acerca de este sonido\" data-file-height=\"20\" data-file-width=\"20\" decoding=\"async\" height=\"11\" src=\"//upload.wikimedia.org/wikipedia/commons/thumb/8/8a/Loudspeaker.svg/11px-Loudspeaker.svg.png\" srcset=\"//upload.wikimedia.org/wikipedia/commons/thumb/8/8a/Loudspeaker.svg/17px-Loudspeaker.svg.png 1.5x, //upload.wikimedia.org/wikipedia/commons/thumb/8/8a/Loudspeaker.svg/22px-Loudspeaker.svg.png 2x\" width=\"11\"/>]\n",
      "Etiqueta: <a class=\"internal\" href=\"//upload.wikimedia.org/wikipedia/commons/2/23/Ru-Vladimir_Vladimirovich_Putin.ogg\" title=\"Ru-Vladimir Vladimirovich Putin.ogg\">pronunciación</a>\n",
      "Nombre: Ru-Vladimir Vladimirovich Putin.ogg\n",
      "Contenido: ['pronunciación']\n",
      "Etiqueta: <a href=\"/wiki/Ayuda:Multimedia\" title=\"Ayuda:Multimedia\"><span style=\"cursor:help;\" title=\"¿Problemas al reproducir este archivo?\">?</span></a>\n",
      "Nombre: Ayuda:Multimedia\n",
      "Contenido: [<span style=\"cursor:help;\" title=\"¿Problemas al reproducir este archivo?\">?</span>]\n",
      "Etiqueta: <a href=\"/wiki/Archivo:Ru-Vladimir_Vladimirovich_Putin.ogg\" title=\"Archivo:Ru-Vladimir Vladimirovich Putin.ogg\"><span style=\"cursor:help;\" title=\"Acerca de este sonido\">i</span></a>\n",
      "Nombre: Archivo:Ru-Vladimir Vladimirovich Putin.ogg\n",
      "Contenido: [<span style=\"cursor:help;\" title=\"Acerca de este sonido\">i</span>]\n",
      "Etiqueta: <a class=\"mw-redirect\" href=\"/wiki/Leningrado\" title=\"Leningrado\">Leningrado</a>\n",
      "Nombre: Leningrado\n",
      "Contenido: ['Leningrado']\n",
      "Etiqueta: <a href=\"/wiki/Uni%C3%B3n_Sovi%C3%A9tica\" title=\"Unión Soviética\">Unión Soviética</a>\n",
      "Nombre: Unión Soviética\n",
      "Contenido: ['Unión Soviética']\n",
      "Etiqueta: <a href=\"/wiki/7_de_octubre\" title=\"7 de octubre\">7 de octubre</a>\n",
      "Nombre: 7 de octubre\n",
      "Contenido: ['7 de octubre']\n",
      "Etiqueta: <a href=\"/wiki/1952\" title=\"1952\">1952</a>\n",
      "Nombre: 1952\n",
      "Contenido: ['1952']\n",
      "Etiqueta: <a href=\"/wiki/KGB\" title=\"KGB\">KGB</a>\n",
      "Nombre: KGB\n",
      "Contenido: ['KGB']\n",
      "Etiqueta: <a href=\"/wiki/Presidente_de_Rusia\" title=\"Presidente de Rusia\">presidente de la Federación Rusa</a>\n",
      "Nombre: Presidente de Rusia\n",
      "Contenido: ['presidente de la Federación Rusa']\n",
      "Etiqueta: <a href=\"/wiki/Uni%C3%B3n_Sovi%C3%A9tica\" title=\"Unión Soviética\">URSS</a>\n",
      "Nombre: Unión Soviética\n",
      "Contenido: ['URSS']\n",
      "Etiqueta: <a class=\"mw-redirect\" href=\"/wiki/Presidente_del_Gobierno_Federal_de_Rusia\" title=\"Presidente del Gobierno Federal de Rusia\">Presidente del Gobierno Federal de Rusia</a>\n",
      "Nombre: Presidente del Gobierno Federal de Rusia\n",
      "Contenido: ['Presidente del Gobierno Federal de Rusia']\n",
      "Etiqueta: <a href=\"/wiki/Nuestro_Hogar_%E2%80%93_Rusia\" title=\"Nuestro Hogar – Rusia\">Nuestro Hogar – Rusia</a>\n",
      "Nombre: Nuestro Hogar – Rusia\n",
      "Contenido: ['Nuestro Hogar – Rusia']\n",
      "Etiqueta: <a href=\"/wiki/Unidad_(partido_pol%C3%ADtico)\" title=\"Unidad (partido político)\">Unidad</a>\n",
      "Nombre: Unidad (partido político)\n",
      "Contenido: ['Unidad']\n",
      "Etiqueta: <a href=\"/wiki/Rusia_Unida\" title=\"Rusia Unida\">Rusia Unida</a>\n",
      "Nombre: Rusia Unida\n",
      "Contenido: ['Rusia Unida']\n",
      "Etiqueta: <a class=\"mw-redirect\" href=\"/wiki/Nacionalista\" title=\"Nacionalista\">nacionalista</a>\n",
      "Nombre: Nacionalista\n",
      "Contenido: ['nacionalista']\n",
      "Etiqueta: <a href=\"/wiki/Conservadurismo\" title=\"Conservadurismo\">conservadora</a>\n",
      "Nombre: Conservadurismo\n",
      "Contenido: ['conservadora']\n"
     ]
    }
   ],
   "source": [
    "Parrafo = soup.find('p')\n",
    "for link in Parrafo.find_all('a'):\n",
    "    print(f\"Etiqueta: {link}\")\n",
    "    print(f\"Nombre: {link.get('title')}\")\n",
    "    print(f\"Contenido: {link.contents}\")"
   ]
  },
  {
   "cell_type": "code",
   "execution_count": 7,
   "metadata": {},
   "outputs": [
    {
     "data": {
      "text/plain": [
       "['Barack Obama']"
      ]
     },
     "execution_count": 7,
     "metadata": {},
     "output_type": "execute_result"
    }
   ],
   "source": [
    "link9 = \"https://es.wikipedia.org/wiki/Barack_Obama\"\n",
    "\n",
    "request = urllib.request.urlopen(link9)\n",
    "fuente = request.read()\n",
    "request.close()\n",
    "soup = bs.BeautifulSoup(fuente, 'html.parser')\n",
    "soup.find(id=\"firstHeading\").contents"
   ]
  },
  {
   "cell_type": "code",
   "execution_count": 8,
   "metadata": {},
   "outputs": [
    {
     "name": "stdout",
     "output_type": "stream",
     "text": [
      "Etiqueta: <a href=\"#cite_note-1\"><span class=\"corchete-llamada\">[</span>1<span class=\"corchete-llamada\">]</span></a>\n",
      "Nombre: None\n",
      "Contenido: [<span class=\"corchete-llamada\">[</span>, '1', <span class=\"corchete-llamada\">]</span>]\n",
      "Etiqueta: <a href=\"/wiki/Archivo:En-us-Barack-Hussein-Obama.ogg\" title=\"Acerca de este sonido\"><img alt=\"Acerca de este sonido\" data-file-height=\"20\" data-file-width=\"20\" decoding=\"async\" height=\"11\" src=\"//upload.wikimedia.org/wikipedia/commons/thumb/8/8a/Loudspeaker.svg/11px-Loudspeaker.svg.png\" srcset=\"//upload.wikimedia.org/wikipedia/commons/thumb/8/8a/Loudspeaker.svg/17px-Loudspeaker.svg.png 1.5x, //upload.wikimedia.org/wikipedia/commons/thumb/8/8a/Loudspeaker.svg/22px-Loudspeaker.svg.png 2x\" width=\"11\"/></a>\n",
      "Nombre: Acerca de este sonido\n",
      "Contenido: [<img alt=\"Acerca de este sonido\" data-file-height=\"20\" data-file-width=\"20\" decoding=\"async\" height=\"11\" src=\"//upload.wikimedia.org/wikipedia/commons/thumb/8/8a/Loudspeaker.svg/11px-Loudspeaker.svg.png\" srcset=\"//upload.wikimedia.org/wikipedia/commons/thumb/8/8a/Loudspeaker.svg/17px-Loudspeaker.svg.png 1.5x, //upload.wikimedia.org/wikipedia/commons/thumb/8/8a/Loudspeaker.svg/22px-Loudspeaker.svg.png 2x\" width=\"11\"/>]\n",
      "Etiqueta: <a class=\"internal\" href=\"//upload.wikimedia.org/wikipedia/commons/8/82/En-us-Barack-Hussein-Obama.ogg\" title=\"En-us-Barack-Hussein-Obama.ogg\"><span class=\"IPA\" title=\"Representación en el Alfabeto Fonético Internacional (IPA o AFI)\">[bəˈrɑːk huːˈseɪn oʊˈbɑːmə]</span></a>\n",
      "Nombre: En-us-Barack-Hussein-Obama.ogg\n",
      "Contenido: [<span class=\"IPA\" title=\"Representación en el Alfabeto Fonético Internacional (IPA o AFI)\">[bəˈrɑːk huːˈseɪn oʊˈbɑːmə]</span>]\n",
      "Etiqueta: <a href=\"/wiki/Ayuda:Multimedia\" title=\"Ayuda:Multimedia\"><span style=\"cursor:help;\" title=\"¿Problemas al reproducir este archivo?\">?</span></a>\n",
      "Nombre: Ayuda:Multimedia\n",
      "Contenido: [<span style=\"cursor:help;\" title=\"¿Problemas al reproducir este archivo?\">?</span>]\n",
      "Etiqueta: <a href=\"/wiki/Archivo:En-us-Barack-Hussein-Obama.ogg\" title=\"Archivo:En-us-Barack-Hussein-Obama.ogg\"><span style=\"cursor:help;\" title=\"Acerca de este sonido\">i</span></a>\n",
      "Nombre: Archivo:En-us-Barack-Hussein-Obama.ogg\n",
      "Contenido: [<span style=\"cursor:help;\" title=\"Acerca de este sonido\">i</span>]\n",
      "Etiqueta: <a href=\"/wiki/Ingl%C3%A9s_estadounidense\" title=\"Inglés estadounidense\">inglés estadounidense</a>\n",
      "Nombre: Inglés estadounidense\n",
      "Contenido: ['inglés estadounidense']\n",
      "Etiqueta: <a href=\"/wiki/Honolulu\" title=\"Honolulu\">Honolulu</a>\n",
      "Nombre: Honolulu\n",
      "Contenido: ['Honolulu']\n",
      "Etiqueta: <a href=\"/wiki/Haw%C3%A1i\" title=\"Hawái\">Hawái</a>\n",
      "Nombre: Hawái\n",
      "Contenido: ['Hawái']\n",
      "Etiqueta: <a href=\"/wiki/Nacionalidad_estadounidense\" title=\"Nacionalidad estadounidense\">estadounidense</a>\n",
      "Nombre: Nacionalidad estadounidense\n",
      "Contenido: ['estadounidense']\n",
      "Etiqueta: <a href=\"/wiki/Anexo:Presidentes_de_los_Estados_Unidos\" title=\"Anexo:Presidentes de los Estados Unidos\">44.º</a>\n",
      "Nombre: Anexo:Presidentes de los Estados Unidos\n",
      "Contenido: ['44.º']\n",
      "Etiqueta: <a href=\"/wiki/Presidente_de_los_Estados_Unidos\" title=\"Presidente de los Estados Unidos\">presidente de los Estados Unidos de América</a>\n",
      "Nombre: Presidente de los Estados Unidos\n",
      "Contenido: ['presidente de los Estados Unidos de América']\n",
      "Etiqueta: <a href=\"#cite_note-2\"><span class=\"corchete-llamada\">[</span>2<span class=\"corchete-llamada\">]</span></a>\n",
      "Nombre: None\n",
      "Contenido: [<span class=\"corchete-llamada\">[</span>, '2', <span class=\"corchete-llamada\">]</span>]\n",
      "Etiqueta: <a href=\"/wiki/Senado_de_los_Estados_Unidos\" title=\"Senado de los Estados Unidos\">senador</a>\n",
      "Nombre: Senado de los Estados Unidos\n",
      "Contenido: ['senador']\n",
      "Etiqueta: <a href=\"/wiki/Illinois\" title=\"Illinois\">Illinois</a>\n",
      "Nombre: Illinois\n",
      "Contenido: ['Illinois']\n",
      "Etiqueta: <a href=\"#cite_note-3\"><span class=\"corchete-llamada\">[</span>3<span class=\"corchete-llamada\">]</span></a>\n",
      "Nombre: None\n",
      "Contenido: [<span class=\"corchete-llamada\">[</span>, '3', <span class=\"corchete-llamada\">]</span>]\n",
      "Etiqueta: <a href=\"/wiki/Legislador\" title=\"Legislador\">legislador</a>\n",
      "Nombre: Legislador\n",
      "Contenido: ['legislador']\n",
      "Etiqueta: <a href=\"/wiki/Afroamericano\" title=\"Afroamericano\">afroamericano</a>\n",
      "Nombre: Afroamericano\n",
      "Contenido: ['afroamericano']\n",
      "Etiqueta: <a href=\"/wiki/Senado_de_los_Estados_Unidos\" title=\"Senado de los Estados Unidos\">Senado de los Estados Unidos</a>\n",
      "Nombre: Senado de los Estados Unidos\n",
      "Contenido: ['Senado de los Estados Unidos']\n",
      "Etiqueta: <a href=\"/wiki/Reconstrucci%C3%B3n_(Estados_Unidos)\" title=\"Reconstrucción (Estados Unidos)\">era de reconstrucción</a>\n",
      "Nombre: Reconstrucción (Estados Unidos)\n",
      "Contenido: ['era de reconstrucción']\n",
      "Etiqueta: <a href=\"/wiki/Afroestadounidense\" title=\"Afroestadounidense\">afroestadounidense</a>\n",
      "Nombre: Afroestadounidense\n",
      "Contenido: ['afroestadounidense']\n",
      "Etiqueta: <a href=\"/wiki/Partido_Dem%C3%B3crata_(Estados_Unidos)\" title=\"Partido Demócrata (Estados Unidos)\">Partido Demócrata</a>\n",
      "Nombre: Partido Demócrata (Estados Unidos)\n",
      "Contenido: ['Partido Demócrata']\n",
      "Etiqueta: <a href=\"#cite_note-4\"><span class=\"corchete-llamada\">[</span>4<span class=\"corchete-llamada\">]</span></a>\n",
      "Nombre: None\n",
      "Contenido: [<span class=\"corchete-llamada\">[</span>, '4', <span class=\"corchete-llamada\">]</span>]\n"
     ]
    }
   ],
   "source": [
    "Parrafo = soup.find('p')\n",
    "for link in Parrafo.find_all('a'):\n",
    "    print(f\"Etiqueta: {link}\")\n",
    "    print(f\"Nombre: {link.get('title')}\")\n",
    "    print(f\"Contenido: {link.contents}\")"
   ]
  },
  {
   "cell_type": "code",
   "execution_count": 5,
   "metadata": {},
   "outputs": [
    {
     "data": {
      "text/plain": [
       "['Joe Biden']"
      ]
     },
     "execution_count": 5,
     "metadata": {},
     "output_type": "execute_result"
    }
   ],
   "source": [
    "link10 = \"https://es.wikipedia.org/wiki/Joe_Biden\"\n",
    "\n",
    "request = urllib.request.urlopen(link10)\n",
    "fuente = request.read()\n",
    "request.close()\n",
    "soup = bs.BeautifulSoup(fuente, 'html.parser')\n",
    "soup.find(id=\"firstHeading\").contents"
   ]
  },
  {
   "cell_type": "code",
   "execution_count": 6,
   "metadata": {},
   "outputs": [
    {
     "name": "stdout",
     "output_type": "stream",
     "text": [
      "Etiqueta: <a class=\"mw-redirect\" href=\"/wiki/Scranton\" title=\"Scranton\">Scranton</a>\n",
      "Nombre: Scranton\n",
      "Contenido: ['Scranton']\n",
      "Etiqueta: <a href=\"/wiki/Pensilvania\" title=\"Pensilvania\">Pensilvania</a>\n",
      "Nombre: Pensilvania\n",
      "Contenido: ['Pensilvania']\n",
      "Etiqueta: <a href=\"/wiki/Abogado\" title=\"Abogado\">abogado</a>\n",
      "Nombre: Abogado\n",
      "Contenido: ['abogado']\n",
      "Etiqueta: <a href=\"/wiki/Pol%C3%ADtico\" title=\"Político\">político</a>\n",
      "Nombre: Político\n",
      "Contenido: ['político']\n",
      "Etiqueta: <a class=\"mw-redirect\" href=\"/wiki/Vicepresidente_de_los_Estados_Unidos_de_Am%C3%A9rica\" title=\"Vicepresidente de los Estados Unidos de América\">vicepresidente de los Estados Unidos de América</a>\n",
      "Nombre: Vicepresidente de los Estados Unidos de América\n",
      "Contenido: ['vicepresidente de los Estados Unidos de América']\n",
      "Etiqueta: <a href=\"/wiki/Barack_Obama\" title=\"Barack Obama\">Barack Obama</a>\n",
      "Nombre: Barack Obama\n",
      "Contenido: ['Barack Obama']\n",
      "Etiqueta: <a href=\"#cite_note-:0-1\"><span class=\"corchete-llamada\">[</span>1<span class=\"corchete-llamada\">]</span></a>\n",
      "Nombre: None\n",
      "Contenido: [<span class=\"corchete-llamada\">[</span>, '1', <span class=\"corchete-llamada\">]</span>]\n",
      "Etiqueta: <a href=\"/wiki/Partido_Dem%C3%B3crata_(Estados_Unidos)\" title=\"Partido Demócrata (Estados Unidos)\">Demócrata</a>\n",
      "Nombre: Partido Demócrata (Estados Unidos)\n",
      "Contenido: ['Demócrata']\n",
      "Etiqueta: <a href=\"/wiki/Estados_Unidos\" title=\"Estados Unidos\">Estados Unidos</a>\n",
      "Nombre: Estados Unidos\n",
      "Contenido: ['Estados Unidos']\n",
      "Etiqueta: <a href=\"/wiki/Elecciones_presidenciales_de_Estados_Unidos_de_2020\" title=\"Elecciones presidenciales de Estados Unidos de 2020\">elecciones presidenciales</a>\n",
      "Nombre: Elecciones presidenciales de Estados Unidos de 2020\n",
      "Contenido: ['elecciones presidenciales']\n",
      "Etiqueta: <a href=\"#cite_note-:1-2\"><span class=\"corchete-llamada\">[</span>2<span class=\"corchete-llamada\">]</span></a>\n",
      "Nombre: None\n",
      "Contenido: [<span class=\"corchete-llamada\">[</span>, '2', <span class=\"corchete-llamada\">]</span>]\n"
     ]
    }
   ],
   "source": [
    "Parrafo = soup.find('p')\n",
    "for link in Parrafo.find_all('a'):\n",
    "    print(f\"Etiqueta: {link}\")\n",
    "    print(f\"Nombre: {link.get('title')}\")\n",
    "    print(f\"Contenido: {link.contents}\")"
   ]
  }
 ],
 "metadata": {
  "kernelspec": {
   "display_name": "Python 3",
   "language": "python",
   "name": "python3"
  },
  "language_info": {
   "codemirror_mode": {
    "name": "ipython",
    "version": 3
   },
   "file_extension": ".py",
   "mimetype": "text/x-python",
   "name": "python",
   "nbconvert_exporter": "python",
   "pygments_lexer": "ipython3",
   "version": "3.7.4"
  }
 },
 "nbformat": 4,
 "nbformat_minor": 2
}
